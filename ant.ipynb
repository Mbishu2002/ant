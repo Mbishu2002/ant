{
  "nbformat": 4,
  "nbformat_minor": 0,
  "metadata": {
    "colab": {
      "provenance": [],
      "authorship_tag": "ABX9TyMaCUQnRiX9zcuNsR2PnMhh",
      "include_colab_link": true
    },
    "kernelspec": {
      "name": "python3",
      "display_name": "Python 3"
    },
    "language_info": {
      "name": "python"
    }
  },
  "cells": [
    {
      "cell_type": "markdown",
      "metadata": {
        "id": "view-in-github",
        "colab_type": "text"
      },
      "source": [
        "<a href=\"https://colab.research.google.com/github/Mbishu2002/ant/blob/main/ant.ipynb\" target=\"_parent\"><img src=\"https://colab.research.google.com/assets/colab-badge.svg\" alt=\"Open In Colab\"/></a>"
      ]
    },
    {
      "cell_type": "code",
      "execution_count": null,
      "metadata": {
        "id": "tGWVPV-bgBza"
      },
      "outputs": [],
      "source": [
        "import torch\n",
        "from transformers import BertTokenizer, BertModel\n",
        "import pandas as pd\n",
        "from sklearn.cluster import KMeans\n",
        "from sklearn.decomposition import PCA\n",
        "import numpy as np\n",
        "\n",
        "\n",
        "data = pd.read_csv(\"your_dataset.csv\")\n",
        "\n",
        "tokenizer = BertTokenizer.from_pretrained('bert-base-uncased')\n",
        "\n",
        "class CustomDataset():\n",
        "    def __init__(self, data):\n",
        "        self.data = data\n",
        "        self.tokenized_data = []\n",
        "        for text in data['quantitative_analysis']:\n",
        "            tokenized_text = tokenizer.encode(text, add_special_tokens=True)\n",
        "            self.tokenized_data.append(tokenized_text)\n",
        "\n",
        "custom_dataset = CustomDataset(data)\n",
        "\n",
        "\n",
        "model = BertModel.from_pretrained('bert-base-uncased')\n",
        "\n",
        "\n",
        "def extract_bert_embeddings(data, model):\n",
        "    embeddings = []\n",
        "    with torch.no_grad():\n",
        "        for text in data:\n",
        "            inputs = torch.tensor(text).unsqueeze(0)\n",
        "            outputs = model(inputs)\n",
        "            last_hidden_states = outputs.last_hidden_state\n",
        "            cls_embedding = last_hidden_states[:, 0, :]\n",
        "            embeddings.append(cls_embedding.squeeze().numpy())\n",
        "    return embeddings\n",
        "\n",
        "\n",
        "embeddings = extract_bert_embeddings(custom_dataset.tokenized_data, model)\n",
        "\n",
        "\n",
        "pca = PCA(n_components=50)\n",
        "reduced_embeddings = pca.fit_transform(embeddings)\n",
        "\n",
        "\n",
        "kmeans = KMeans(n_clusters=5)\n",
        "clusters = kmeans.fit_predict(reduced_embeddings)\n",
        "\n",
        "\n",
        "for cluster_idx in range(kmeans.n_clusters):\n",
        "    cluster_data = data.iloc[np.where(clusters == cluster_idx)]\n",
        "\n"
      ]
    }
  ]
}